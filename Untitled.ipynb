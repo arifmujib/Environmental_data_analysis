{
 "cells": [
  {
   "cell_type": "code",
   "execution_count": 1,
   "id": "b8f7e40e-ae11-4296-a39b-ccea1cddc899",
   "metadata": {},
   "outputs": [],
   "source": [
    "import numpy as np\n",
    "import pandas as pd\n",
    "import matplotlib.pyplot as plt\n",
    "import seaborn as sns\n",
    "\n",
    "sns.set()"
   ]
  },
  {
   "cell_type": "code",
   "execution_count": 2,
   "id": "4289dd48-e026-4cf5-9a07-89c065ebc0e2",
   "metadata": {},
   "outputs": [],
   "source": [
    "import os"
   ]
  },
  {
   "cell_type": "code",
   "execution_count": 3,
   "id": "9985edf9-1906-4341-8b9f-f846a7ea1475",
   "metadata": {},
   "outputs": [],
   "source": [
    "os.chdir(\"/Volumes/LiteOn_128/Data_science/datasets/OceanFlow/\")"
   ]
  },
  {
   "cell_type": "code",
   "execution_count": 4,
   "id": "1b683127-af04-44fa-9f3c-96053d0bbae5",
   "metadata": {},
   "outputs": [
    {
     "name": "stdout",
     "output_type": "stream",
     "text": [
      "\u001b[31m100u.csv\u001b[m\u001b[m* \u001b[31m21u.csv\u001b[m\u001b[m*  \u001b[31m33u.csv\u001b[m\u001b[m*  \u001b[31m45u.csv\u001b[m\u001b[m*  \u001b[31m57u.csv\u001b[m\u001b[m*  \u001b[31m69u.csv\u001b[m\u001b[m*  \u001b[31m80u.csv\u001b[m\u001b[m*  \u001b[31m92u.csv\u001b[m\u001b[m*\n",
      "\u001b[31m100v.csv\u001b[m\u001b[m* \u001b[31m21v.csv\u001b[m\u001b[m*  \u001b[31m33v.csv\u001b[m\u001b[m*  \u001b[31m45v.csv\u001b[m\u001b[m*  \u001b[31m57v.csv\u001b[m\u001b[m*  \u001b[31m69v.csv\u001b[m\u001b[m*  \u001b[31m80v.csv\u001b[m\u001b[m*  \u001b[31m92v.csv\u001b[m\u001b[m*\n",
      "\u001b[31m10u.csv\u001b[m\u001b[m*  \u001b[31m22u.csv\u001b[m\u001b[m*  \u001b[31m34u.csv\u001b[m\u001b[m*  \u001b[31m46u.csv\u001b[m\u001b[m*  \u001b[31m58u.csv\u001b[m\u001b[m*  \u001b[31m6u.csv\u001b[m\u001b[m*   \u001b[31m81u.csv\u001b[m\u001b[m*  \u001b[31m93u.csv\u001b[m\u001b[m*\n",
      "\u001b[31m10v.csv\u001b[m\u001b[m*  \u001b[31m22v.csv\u001b[m\u001b[m*  \u001b[31m34v.csv\u001b[m\u001b[m*  \u001b[31m46v.csv\u001b[m\u001b[m*  \u001b[31m58v.csv\u001b[m\u001b[m*  \u001b[31m6v.csv\u001b[m\u001b[m*   \u001b[31m81v.csv\u001b[m\u001b[m*  \u001b[31m93v.csv\u001b[m\u001b[m*\n",
      "\u001b[31m11u.csv\u001b[m\u001b[m*  \u001b[31m23u.csv\u001b[m\u001b[m*  \u001b[31m35u.csv\u001b[m\u001b[m*  \u001b[31m47u.csv\u001b[m\u001b[m*  \u001b[31m59u.csv\u001b[m\u001b[m*  \u001b[31m70u.csv\u001b[m\u001b[m*  \u001b[31m82u.csv\u001b[m\u001b[m*  \u001b[31m94u.csv\u001b[m\u001b[m*\n",
      "\u001b[31m11v.csv\u001b[m\u001b[m*  \u001b[31m23v.csv\u001b[m\u001b[m*  \u001b[31m35v.csv\u001b[m\u001b[m*  \u001b[31m47v.csv\u001b[m\u001b[m*  \u001b[31m59v.csv\u001b[m\u001b[m*  \u001b[31m70v.csv\u001b[m\u001b[m*  \u001b[31m82v.csv\u001b[m\u001b[m*  \u001b[31m94v.csv\u001b[m\u001b[m*\n",
      "\u001b[31m12u.csv\u001b[m\u001b[m*  \u001b[31m24u.csv\u001b[m\u001b[m*  \u001b[31m36u.csv\u001b[m\u001b[m*  \u001b[31m48u.csv\u001b[m\u001b[m*  \u001b[31m5u.csv\u001b[m\u001b[m*   \u001b[31m71u.csv\u001b[m\u001b[m*  \u001b[31m83u.csv\u001b[m\u001b[m*  \u001b[31m95u.csv\u001b[m\u001b[m*\n",
      "\u001b[31m12v.csv\u001b[m\u001b[m*  \u001b[31m24v.csv\u001b[m\u001b[m*  \u001b[31m36v.csv\u001b[m\u001b[m*  \u001b[31m48v.csv\u001b[m\u001b[m*  \u001b[31m5v.csv\u001b[m\u001b[m*   \u001b[31m71v.csv\u001b[m\u001b[m*  \u001b[31m83v.csv\u001b[m\u001b[m*  \u001b[31m95v.csv\u001b[m\u001b[m*\n",
      "\u001b[31m13u.csv\u001b[m\u001b[m*  \u001b[31m25u.csv\u001b[m\u001b[m*  \u001b[31m37u.csv\u001b[m\u001b[m*  \u001b[31m49u.csv\u001b[m\u001b[m*  \u001b[31m60u.csv\u001b[m\u001b[m*  \u001b[31m72u.csv\u001b[m\u001b[m*  \u001b[31m84u.csv\u001b[m\u001b[m*  \u001b[31m96u.csv\u001b[m\u001b[m*\n",
      "\u001b[31m13v.csv\u001b[m\u001b[m*  \u001b[31m25v.csv\u001b[m\u001b[m*  \u001b[31m37v.csv\u001b[m\u001b[m*  \u001b[31m49v.csv\u001b[m\u001b[m*  \u001b[31m60v.csv\u001b[m\u001b[m*  \u001b[31m72v.csv\u001b[m\u001b[m*  \u001b[31m84v.csv\u001b[m\u001b[m*  \u001b[31m96v.csv\u001b[m\u001b[m*\n",
      "\u001b[31m14u.csv\u001b[m\u001b[m*  \u001b[31m26u.csv\u001b[m\u001b[m*  \u001b[31m38u.csv\u001b[m\u001b[m*  \u001b[31m4u.csv\u001b[m\u001b[m*   \u001b[31m61u.csv\u001b[m\u001b[m*  \u001b[31m73u.csv\u001b[m\u001b[m*  \u001b[31m85u.csv\u001b[m\u001b[m*  \u001b[31m97u.csv\u001b[m\u001b[m*\n",
      "\u001b[31m14v.csv\u001b[m\u001b[m*  \u001b[31m26v.csv\u001b[m\u001b[m*  \u001b[31m38v.csv\u001b[m\u001b[m*  \u001b[31m4v.csv\u001b[m\u001b[m*   \u001b[31m61v.csv\u001b[m\u001b[m*  \u001b[31m73v.csv\u001b[m\u001b[m*  \u001b[31m85v.csv\u001b[m\u001b[m*  \u001b[31m97v.csv\u001b[m\u001b[m*\n",
      "\u001b[31m15u.csv\u001b[m\u001b[m*  \u001b[31m27u.csv\u001b[m\u001b[m*  \u001b[31m39u.csv\u001b[m\u001b[m*  \u001b[31m50u.csv\u001b[m\u001b[m*  \u001b[31m62u.csv\u001b[m\u001b[m*  \u001b[31m74u.csv\u001b[m\u001b[m*  \u001b[31m86u.csv\u001b[m\u001b[m*  \u001b[31m98u.csv\u001b[m\u001b[m*\n",
      "\u001b[31m15v.csv\u001b[m\u001b[m*  \u001b[31m27v.csv\u001b[m\u001b[m*  \u001b[31m39v.csv\u001b[m\u001b[m*  \u001b[31m50v.csv\u001b[m\u001b[m*  \u001b[31m62v.csv\u001b[m\u001b[m*  \u001b[31m74v.csv\u001b[m\u001b[m*  \u001b[31m86v.csv\u001b[m\u001b[m*  \u001b[31m98v.csv\u001b[m\u001b[m*\n",
      "\u001b[31m16u.csv\u001b[m\u001b[m*  \u001b[31m28u.csv\u001b[m\u001b[m*  \u001b[31m3u.csv\u001b[m\u001b[m*   \u001b[31m51u.csv\u001b[m\u001b[m*  \u001b[31m63u.csv\u001b[m\u001b[m*  \u001b[31m75u.csv\u001b[m\u001b[m*  \u001b[31m87u.csv\u001b[m\u001b[m*  \u001b[31m99u.csv\u001b[m\u001b[m*\n",
      "\u001b[31m16v.csv\u001b[m\u001b[m*  \u001b[31m28v.csv\u001b[m\u001b[m*  \u001b[31m3v.csv\u001b[m\u001b[m*   \u001b[31m51v.csv\u001b[m\u001b[m*  \u001b[31m63v.csv\u001b[m\u001b[m*  \u001b[31m75v.csv\u001b[m\u001b[m*  \u001b[31m87v.csv\u001b[m\u001b[m*  \u001b[31m99v.csv\u001b[m\u001b[m*\n",
      "\u001b[31m17u.csv\u001b[m\u001b[m*  \u001b[31m29u.csv\u001b[m\u001b[m*  \u001b[31m40u.csv\u001b[m\u001b[m*  \u001b[31m52u.csv\u001b[m\u001b[m*  \u001b[31m64u.csv\u001b[m\u001b[m*  \u001b[31m76u.csv\u001b[m\u001b[m*  \u001b[31m88u.csv\u001b[m\u001b[m*  \u001b[31m9u.csv\u001b[m\u001b[m*\n",
      "\u001b[31m17v.csv\u001b[m\u001b[m*  \u001b[31m29v.csv\u001b[m\u001b[m*  \u001b[31m40v.csv\u001b[m\u001b[m*  \u001b[31m52v.csv\u001b[m\u001b[m*  \u001b[31m64v.csv\u001b[m\u001b[m*  \u001b[31m76v.csv\u001b[m\u001b[m*  \u001b[31m88v.csv\u001b[m\u001b[m*  \u001b[31m9v.csv\u001b[m\u001b[m*\n",
      "\u001b[31m18u.csv\u001b[m\u001b[m*  \u001b[31m2u.csv\u001b[m\u001b[m*   \u001b[31m41u.csv\u001b[m\u001b[m*  \u001b[31m53u.csv\u001b[m\u001b[m*  \u001b[31m65u.csv\u001b[m\u001b[m*  \u001b[31m77u.csv\u001b[m\u001b[m*  \u001b[31m89u.csv\u001b[m\u001b[m*  \u001b[31mmask.csv\u001b[m\u001b[m*\n",
      "\u001b[31m18v.csv\u001b[m\u001b[m*  \u001b[31m2v.csv\u001b[m\u001b[m*   \u001b[31m41v.csv\u001b[m\u001b[m*  \u001b[31m53v.csv\u001b[m\u001b[m*  \u001b[31m65v.csv\u001b[m\u001b[m*  \u001b[31m77v.csv\u001b[m\u001b[m*  \u001b[31m89v.csv\u001b[m\u001b[m*\n",
      "\u001b[31m19u.csv\u001b[m\u001b[m*  \u001b[31m30u.csv\u001b[m\u001b[m*  \u001b[31m42u.csv\u001b[m\u001b[m*  \u001b[31m54u.csv\u001b[m\u001b[m*  \u001b[31m66u.csv\u001b[m\u001b[m*  \u001b[31m78u.csv\u001b[m\u001b[m*  \u001b[31m8u.csv\u001b[m\u001b[m*\n",
      "\u001b[31m19v.csv\u001b[m\u001b[m*  \u001b[31m30v.csv\u001b[m\u001b[m*  \u001b[31m42v.csv\u001b[m\u001b[m*  \u001b[31m54v.csv\u001b[m\u001b[m*  \u001b[31m66v.csv\u001b[m\u001b[m*  \u001b[31m78v.csv\u001b[m\u001b[m*  \u001b[31m8v.csv\u001b[m\u001b[m*\n",
      "\u001b[31m1u.csv\u001b[m\u001b[m*   \u001b[31m31u.csv\u001b[m\u001b[m*  \u001b[31m43u.csv\u001b[m\u001b[m*  \u001b[31m55u.csv\u001b[m\u001b[m*  \u001b[31m67u.csv\u001b[m\u001b[m*  \u001b[31m79u.csv\u001b[m\u001b[m*  \u001b[31m90u.csv\u001b[m\u001b[m*\n",
      "\u001b[31m1v.csv\u001b[m\u001b[m*   \u001b[31m31v.csv\u001b[m\u001b[m*  \u001b[31m43v.csv\u001b[m\u001b[m*  \u001b[31m55v.csv\u001b[m\u001b[m*  \u001b[31m67v.csv\u001b[m\u001b[m*  \u001b[31m79v.csv\u001b[m\u001b[m*  \u001b[31m90v.csv\u001b[m\u001b[m*\n",
      "\u001b[31m20u.csv\u001b[m\u001b[m*  \u001b[31m32u.csv\u001b[m\u001b[m*  \u001b[31m44u.csv\u001b[m\u001b[m*  \u001b[31m56u.csv\u001b[m\u001b[m*  \u001b[31m68u.csv\u001b[m\u001b[m*  \u001b[31m7u.csv\u001b[m\u001b[m*   \u001b[31m91u.csv\u001b[m\u001b[m*\n",
      "\u001b[31m20v.csv\u001b[m\u001b[m*  \u001b[31m32v.csv\u001b[m\u001b[m*  \u001b[31m44v.csv\u001b[m\u001b[m*  \u001b[31m56v.csv\u001b[m\u001b[m*  \u001b[31m68v.csv\u001b[m\u001b[m*  \u001b[31m7v.csv\u001b[m\u001b[m*   \u001b[31m91v.csv\u001b[m\u001b[m*\n"
     ]
    }
   ],
   "source": [
    "ls"
   ]
  },
  {
   "cell_type": "code",
   "execution_count": 5,
   "id": "e0ca553f-5138-433f-8f44-44ba37cd97b5",
   "metadata": {},
   "outputs": [
    {
     "data": {
      "text/html": [
       "<div>\n",
       "<style scoped>\n",
       "    .dataframe tbody tr th:only-of-type {\n",
       "        vertical-align: middle;\n",
       "    }\n",
       "\n",
       "    .dataframe tbody tr th {\n",
       "        vertical-align: top;\n",
       "    }\n",
       "\n",
       "    .dataframe thead th {\n",
       "        text-align: right;\n",
       "    }\n",
       "</style>\n",
       "<table border=\"1\" class=\"dataframe\">\n",
       "  <thead>\n",
       "    <tr style=\"text-align: right;\">\n",
       "      <th></th>\n",
       "      <th>0</th>\n",
       "      <th>1</th>\n",
       "      <th>2</th>\n",
       "      <th>3</th>\n",
       "      <th>4</th>\n",
       "      <th>5</th>\n",
       "      <th>6</th>\n",
       "      <th>7</th>\n",
       "      <th>8</th>\n",
       "      <th>9</th>\n",
       "      <th>...</th>\n",
       "      <th>545</th>\n",
       "      <th>546</th>\n",
       "      <th>547</th>\n",
       "      <th>548</th>\n",
       "      <th>549</th>\n",
       "      <th>550</th>\n",
       "      <th>551</th>\n",
       "      <th>552</th>\n",
       "      <th>553</th>\n",
       "      <th>554</th>\n",
       "    </tr>\n",
       "  </thead>\n",
       "  <tbody>\n",
       "    <tr>\n",
       "      <th>0</th>\n",
       "      <td>0.0</td>\n",
       "      <td>0.0</td>\n",
       "      <td>0.0</td>\n",
       "      <td>0.000000</td>\n",
       "      <td>0.000000</td>\n",
       "      <td>0.000000</td>\n",
       "      <td>0.000000</td>\n",
       "      <td>0.000000</td>\n",
       "      <td>0.000000</td>\n",
       "      <td>0.000000</td>\n",
       "      <td>...</td>\n",
       "      <td>0.00000</td>\n",
       "      <td>0.00000</td>\n",
       "      <td>0.00000</td>\n",
       "      <td>0.00000</td>\n",
       "      <td>0.000000</td>\n",
       "      <td>0.000000</td>\n",
       "      <td>0.000000</td>\n",
       "      <td>0.000000</td>\n",
       "      <td>0.000000</td>\n",
       "      <td>0.000000</td>\n",
       "    </tr>\n",
       "    <tr>\n",
       "      <th>1</th>\n",
       "      <td>0.0</td>\n",
       "      <td>0.0</td>\n",
       "      <td>0.0</td>\n",
       "      <td>0.000000</td>\n",
       "      <td>0.000000</td>\n",
       "      <td>0.000000</td>\n",
       "      <td>0.000000</td>\n",
       "      <td>0.000000</td>\n",
       "      <td>0.000000</td>\n",
       "      <td>0.000000</td>\n",
       "      <td>...</td>\n",
       "      <td>0.00000</td>\n",
       "      <td>0.00000</td>\n",
       "      <td>0.00000</td>\n",
       "      <td>0.00000</td>\n",
       "      <td>0.000000</td>\n",
       "      <td>0.000000</td>\n",
       "      <td>0.000000</td>\n",
       "      <td>0.000000</td>\n",
       "      <td>0.000000</td>\n",
       "      <td>0.000000</td>\n",
       "    </tr>\n",
       "    <tr>\n",
       "      <th>2</th>\n",
       "      <td>0.0</td>\n",
       "      <td>0.0</td>\n",
       "      <td>0.0</td>\n",
       "      <td>0.000000</td>\n",
       "      <td>0.000000</td>\n",
       "      <td>0.000000</td>\n",
       "      <td>0.000000</td>\n",
       "      <td>0.000000</td>\n",
       "      <td>0.000000</td>\n",
       "      <td>0.000000</td>\n",
       "      <td>...</td>\n",
       "      <td>0.00000</td>\n",
       "      <td>0.00000</td>\n",
       "      <td>0.00000</td>\n",
       "      <td>0.00000</td>\n",
       "      <td>0.000000</td>\n",
       "      <td>0.000000</td>\n",
       "      <td>0.000000</td>\n",
       "      <td>0.000000</td>\n",
       "      <td>0.000000</td>\n",
       "      <td>0.000000</td>\n",
       "    </tr>\n",
       "    <tr>\n",
       "      <th>3</th>\n",
       "      <td>0.0</td>\n",
       "      <td>0.0</td>\n",
       "      <td>0.0</td>\n",
       "      <td>-0.117380</td>\n",
       "      <td>-0.227090</td>\n",
       "      <td>-0.211750</td>\n",
       "      <td>-0.200650</td>\n",
       "      <td>-0.193810</td>\n",
       "      <td>-0.186970</td>\n",
       "      <td>-0.165960</td>\n",
       "      <td>...</td>\n",
       "      <td>0.21734</td>\n",
       "      <td>0.18408</td>\n",
       "      <td>0.15080</td>\n",
       "      <td>0.11751</td>\n",
       "      <td>0.093763</td>\n",
       "      <td>0.079559</td>\n",
       "      <td>0.065354</td>\n",
       "      <td>0.048544</td>\n",
       "      <td>0.029132</td>\n",
       "      <td>0.009713</td>\n",
       "    </tr>\n",
       "    <tr>\n",
       "      <th>4</th>\n",
       "      <td>0.0</td>\n",
       "      <td>0.0</td>\n",
       "      <td>0.0</td>\n",
       "      <td>-0.122770</td>\n",
       "      <td>-0.238660</td>\n",
       "      <td>-0.224890</td>\n",
       "      <td>-0.213370</td>\n",
       "      <td>-0.204100</td>\n",
       "      <td>-0.194830</td>\n",
       "      <td>-0.175970</td>\n",
       "      <td>...</td>\n",
       "      <td>0.22303</td>\n",
       "      <td>0.19156</td>\n",
       "      <td>0.15950</td>\n",
       "      <td>0.12745</td>\n",
       "      <td>0.100790</td>\n",
       "      <td>0.079544</td>\n",
       "      <td>0.058297</td>\n",
       "      <td>0.039726</td>\n",
       "      <td>0.015890</td>\n",
       "      <td>0.000000</td>\n",
       "    </tr>\n",
       "    <tr>\n",
       "      <th>...</th>\n",
       "      <td>...</td>\n",
       "      <td>...</td>\n",
       "      <td>...</td>\n",
       "      <td>...</td>\n",
       "      <td>...</td>\n",
       "      <td>...</td>\n",
       "      <td>...</td>\n",
       "      <td>...</td>\n",
       "      <td>...</td>\n",
       "      <td>...</td>\n",
       "      <td>...</td>\n",
       "      <td>...</td>\n",
       "      <td>...</td>\n",
       "      <td>...</td>\n",
       "      <td>...</td>\n",
       "      <td>...</td>\n",
       "      <td>...</td>\n",
       "      <td>...</td>\n",
       "      <td>...</td>\n",
       "      <td>...</td>\n",
       "      <td>...</td>\n",
       "    </tr>\n",
       "    <tr>\n",
       "      <th>499</th>\n",
       "      <td>0.0</td>\n",
       "      <td>0.0</td>\n",
       "      <td>0.0</td>\n",
       "      <td>-0.011248</td>\n",
       "      <td>-0.022629</td>\n",
       "      <td>-0.022895</td>\n",
       "      <td>-0.026429</td>\n",
       "      <td>-0.033231</td>\n",
       "      <td>-0.040034</td>\n",
       "      <td>-0.044156</td>\n",
       "      <td>...</td>\n",
       "      <td>-0.53419</td>\n",
       "      <td>-0.52773</td>\n",
       "      <td>-0.52222</td>\n",
       "      <td>-0.51671</td>\n",
       "      <td>-0.516460</td>\n",
       "      <td>-0.521470</td>\n",
       "      <td>-0.526490</td>\n",
       "      <td>-0.440860</td>\n",
       "      <td>-0.176360</td>\n",
       "      <td>0.000000</td>\n",
       "    </tr>\n",
       "    <tr>\n",
       "      <th>500</th>\n",
       "      <td>0.0</td>\n",
       "      <td>0.0</td>\n",
       "      <td>0.0</td>\n",
       "      <td>-0.012616</td>\n",
       "      <td>-0.025207</td>\n",
       "      <td>-0.025158</td>\n",
       "      <td>-0.029298</td>\n",
       "      <td>-0.037631</td>\n",
       "      <td>-0.045965</td>\n",
       "      <td>-0.050278</td>\n",
       "      <td>...</td>\n",
       "      <td>-0.54247</td>\n",
       "      <td>-0.53488</td>\n",
       "      <td>-0.52796</td>\n",
       "      <td>-0.52104</td>\n",
       "      <td>-0.519020</td>\n",
       "      <td>-0.521900</td>\n",
       "      <td>-0.524780</td>\n",
       "      <td>-0.438540</td>\n",
       "      <td>-0.175440</td>\n",
       "      <td>0.000000</td>\n",
       "    </tr>\n",
       "    <tr>\n",
       "      <th>501</th>\n",
       "      <td>0.0</td>\n",
       "      <td>0.0</td>\n",
       "      <td>0.0</td>\n",
       "      <td>-0.011082</td>\n",
       "      <td>-0.022079</td>\n",
       "      <td>-0.021906</td>\n",
       "      <td>-0.025609</td>\n",
       "      <td>-0.033190</td>\n",
       "      <td>-0.040772</td>\n",
       "      <td>-0.044445</td>\n",
       "      <td>...</td>\n",
       "      <td>-0.45547</td>\n",
       "      <td>-0.44868</td>\n",
       "      <td>-0.44232</td>\n",
       "      <td>-0.43597</td>\n",
       "      <td>-0.433550</td>\n",
       "      <td>-0.435070</td>\n",
       "      <td>-0.436570</td>\n",
       "      <td>-0.364460</td>\n",
       "      <td>-0.218710</td>\n",
       "      <td>-0.072915</td>\n",
       "    </tr>\n",
       "    <tr>\n",
       "      <th>502</th>\n",
       "      <td>0.0</td>\n",
       "      <td>0.0</td>\n",
       "      <td>0.0</td>\n",
       "      <td>-0.006649</td>\n",
       "      <td>-0.013246</td>\n",
       "      <td>-0.013142</td>\n",
       "      <td>-0.015364</td>\n",
       "      <td>-0.019912</td>\n",
       "      <td>-0.024459</td>\n",
       "      <td>-0.026664</td>\n",
       "      <td>...</td>\n",
       "      <td>-0.27325</td>\n",
       "      <td>-0.26917</td>\n",
       "      <td>-0.26535</td>\n",
       "      <td>-0.26155</td>\n",
       "      <td>-0.260110</td>\n",
       "      <td>-0.261000</td>\n",
       "      <td>-0.261910</td>\n",
       "      <td>-0.218640</td>\n",
       "      <td>-0.131200</td>\n",
       "      <td>-0.043740</td>\n",
       "    </tr>\n",
       "    <tr>\n",
       "      <th>503</th>\n",
       "      <td>0.0</td>\n",
       "      <td>0.0</td>\n",
       "      <td>0.0</td>\n",
       "      <td>0.000000</td>\n",
       "      <td>0.000000</td>\n",
       "      <td>0.000000</td>\n",
       "      <td>0.000000</td>\n",
       "      <td>0.000000</td>\n",
       "      <td>0.000000</td>\n",
       "      <td>0.000000</td>\n",
       "      <td>...</td>\n",
       "      <td>0.00000</td>\n",
       "      <td>0.00000</td>\n",
       "      <td>0.00000</td>\n",
       "      <td>0.00000</td>\n",
       "      <td>0.000000</td>\n",
       "      <td>0.000000</td>\n",
       "      <td>0.000000</td>\n",
       "      <td>0.000000</td>\n",
       "      <td>0.000000</td>\n",
       "      <td>0.000000</td>\n",
       "    </tr>\n",
       "  </tbody>\n",
       "</table>\n",
       "<p>504 rows × 555 columns</p>\n",
       "</div>"
      ],
      "text/plain": [
       "     0    1    2         3         4         5         6         7    \\\n",
       "0    0.0  0.0  0.0  0.000000  0.000000  0.000000  0.000000  0.000000   \n",
       "1    0.0  0.0  0.0  0.000000  0.000000  0.000000  0.000000  0.000000   \n",
       "2    0.0  0.0  0.0  0.000000  0.000000  0.000000  0.000000  0.000000   \n",
       "3    0.0  0.0  0.0 -0.117380 -0.227090 -0.211750 -0.200650 -0.193810   \n",
       "4    0.0  0.0  0.0 -0.122770 -0.238660 -0.224890 -0.213370 -0.204100   \n",
       "..   ...  ...  ...       ...       ...       ...       ...       ...   \n",
       "499  0.0  0.0  0.0 -0.011248 -0.022629 -0.022895 -0.026429 -0.033231   \n",
       "500  0.0  0.0  0.0 -0.012616 -0.025207 -0.025158 -0.029298 -0.037631   \n",
       "501  0.0  0.0  0.0 -0.011082 -0.022079 -0.021906 -0.025609 -0.033190   \n",
       "502  0.0  0.0  0.0 -0.006649 -0.013246 -0.013142 -0.015364 -0.019912   \n",
       "503  0.0  0.0  0.0  0.000000  0.000000  0.000000  0.000000  0.000000   \n",
       "\n",
       "          8         9    ...      545      546      547      548       549  \\\n",
       "0    0.000000  0.000000  ...  0.00000  0.00000  0.00000  0.00000  0.000000   \n",
       "1    0.000000  0.000000  ...  0.00000  0.00000  0.00000  0.00000  0.000000   \n",
       "2    0.000000  0.000000  ...  0.00000  0.00000  0.00000  0.00000  0.000000   \n",
       "3   -0.186970 -0.165960  ...  0.21734  0.18408  0.15080  0.11751  0.093763   \n",
       "4   -0.194830 -0.175970  ...  0.22303  0.19156  0.15950  0.12745  0.100790   \n",
       "..        ...       ...  ...      ...      ...      ...      ...       ...   \n",
       "499 -0.040034 -0.044156  ... -0.53419 -0.52773 -0.52222 -0.51671 -0.516460   \n",
       "500 -0.045965 -0.050278  ... -0.54247 -0.53488 -0.52796 -0.52104 -0.519020   \n",
       "501 -0.040772 -0.044445  ... -0.45547 -0.44868 -0.44232 -0.43597 -0.433550   \n",
       "502 -0.024459 -0.026664  ... -0.27325 -0.26917 -0.26535 -0.26155 -0.260110   \n",
       "503  0.000000  0.000000  ...  0.00000  0.00000  0.00000  0.00000  0.000000   \n",
       "\n",
       "          550       551       552       553       554  \n",
       "0    0.000000  0.000000  0.000000  0.000000  0.000000  \n",
       "1    0.000000  0.000000  0.000000  0.000000  0.000000  \n",
       "2    0.000000  0.000000  0.000000  0.000000  0.000000  \n",
       "3    0.079559  0.065354  0.048544  0.029132  0.009713  \n",
       "4    0.079544  0.058297  0.039726  0.015890  0.000000  \n",
       "..        ...       ...       ...       ...       ...  \n",
       "499 -0.521470 -0.526490 -0.440860 -0.176360  0.000000  \n",
       "500 -0.521900 -0.524780 -0.438540 -0.175440  0.000000  \n",
       "501 -0.435070 -0.436570 -0.364460 -0.218710 -0.072915  \n",
       "502 -0.261000 -0.261910 -0.218640 -0.131200 -0.043740  \n",
       "503  0.000000  0.000000  0.000000  0.000000  0.000000  \n",
       "\n",
       "[504 rows x 555 columns]"
      ]
     },
     "execution_count": 5,
     "metadata": {},
     "output_type": "execute_result"
    }
   ],
   "source": [
    "velocity_1u = pd.read_csv('1u.csv', dtype='float', index_col=None, header=None)\n",
    "velocity_1u"
   ]
  },
  {
   "cell_type": "code",
   "execution_count": 6,
   "id": "45d0bd49-1622-477f-82e7-4389e6e49e67",
   "metadata": {},
   "outputs": [],
   "source": [
    "horizontal_velocity = np.zeros((504,555,100))"
   ]
  },
  {
   "cell_type": "code",
   "execution_count": 7,
   "id": "526cfc74-c467-4096-98fd-1a6d109eb02c",
   "metadata": {},
   "outputs": [],
   "source": [
    "for i in range(100):\n",
    "    horizontal_velocity[:,:,i] = pd.read_csv(str(i+1)+'u.csv', dtype='float', index_col=None, header=None).to_numpy()"
   ]
  },
  {
   "cell_type": "code",
   "execution_count": 8,
   "id": "71710455-714f-4c29-9e3f-fdfe899c6d9f",
   "metadata": {},
   "outputs": [],
   "source": [
    "vertical_velocity = np.zeros((504,555,100))\n",
    "\n",
    "for i in range(100):\n",
    "    vertical_velocity[:,:,i] = pd.read_csv(str(i+1)+'v.csv', dtype='float', index_col=None, header=None).to_numpy()"
   ]
  },
  {
   "cell_type": "code",
   "execution_count": 11,
   "id": "f36b0a3e-c718-4c60-a927-480b893686b3",
   "metadata": {},
   "outputs": [
    {
     "name": "stdout",
     "output_type": "stream",
     "text": [
      "(504, 555, 100)\n"
     ]
    }
   ],
   "source": [
    "print(horizontal_velocity.shape)"
   ]
  },
  {
   "cell_type": "code",
   "execution_count": 20,
   "id": "21fac9db-3107-4603-8470-a439c4ab10a0",
   "metadata": {},
   "outputs": [],
   "source": [
    "mag = np.sqrt(horizontal_velocity**2 + vertical_velocity**2)"
   ]
  },
  {
   "cell_type": "code",
   "execution_count": 26,
   "id": "3e642c83-a2a6-485a-a717-23aa17fa967c",
   "metadata": {},
   "outputs": [],
   "source": [
    "variance_flow = np.var(mag, axis=2)"
   ]
  },
  {
   "cell_type": "code",
   "execution_count": 42,
   "id": "dc42bc53-b82f-4d14-a385-ec8b8b7d4da4",
   "metadata": {},
   "outputs": [],
   "source": [
    "min_flow = variance_flow[variance_flow.nonzero()].min()"
   ]
  },
  {
   "cell_type": "code",
   "execution_count": 43,
   "id": "9c6f8938-e087-4c25-b7b6-35e2e1f98539",
   "metadata": {},
   "outputs": [
    {
     "data": {
      "text/plain": [
       "(array([121]), array([170]))"
      ]
     },
     "execution_count": 43,
     "metadata": {},
     "output_type": "execute_result"
    }
   ],
   "source": [
    "np.where(variance_flow == min_flow)"
   ]
  },
  {
   "cell_type": "code",
   "execution_count": 44,
   "id": "d3a37adf-08cd-4d86-ad90-8bec2f4639bc",
   "metadata": {},
   "outputs": [
    {
     "data": {
      "text/plain": [
       "1.229762973869425e-13"
      ]
     },
     "execution_count": 44,
     "metadata": {},
     "output_type": "execute_result"
    }
   ],
   "source": [
    "variance_flow[121,170]"
   ]
  },
  {
   "cell_type": "code",
   "execution_count": 45,
   "id": "97cabd61-9378-4bf2-870b-5bec9ef1e587",
   "metadata": {},
   "outputs": [
    {
     "data": {
      "text/plain": [
       "1.229762973869425e-13"
      ]
     },
     "execution_count": 45,
     "metadata": {},
     "output_type": "execute_result"
    }
   ],
   "source": [
    "min_flow"
   ]
  },
  {
   "cell_type": "code",
   "execution_count": 47,
   "id": "cf2a0fc8-fa1a-4464-ae01-38eb2e4e92c0",
   "metadata": {},
   "outputs": [
    {
     "data": {
      "text/plain": [
       "array([363, 510])"
      ]
     },
     "execution_count": 47,
     "metadata": {},
     "output_type": "execute_result"
    }
   ],
   "source": [
    "np.array([121, 170])*3"
   ]
  },
  {
   "cell_type": "code",
   "execution_count": 48,
   "id": "dd023aa8-c4e4-4d2e-9840-f5c6ba321a21",
   "metadata": {},
   "outputs": [
    {
     "data": {
      "text/plain": [
       "10080228"
      ]
     },
     "execution_count": 48,
     "metadata": {},
     "output_type": "execute_result"
    }
   ],
   "source": [
    "horizontal_velocity.argmax()"
   ]
  },
  {
   "cell_type": "code",
   "execution_count": 51,
   "id": "2cb02c12-a71b-44e3-bb10-d3cc8842bd78",
   "metadata": {},
   "outputs": [],
   "source": [
    "result = np.unravel_index(horizontal_velocity.argmax(), horizontal_velocity.shape)"
   ]
  },
  {
   "cell_type": "code",
   "execution_count": 52,
   "id": "58fdb009-6d7f-4cb4-b2b8-c0a12315c24b",
   "metadata": {},
   "outputs": [
    {
     "data": {
      "text/plain": [
       "array([ 543, 1041,   84])"
      ]
     },
     "execution_count": 52,
     "metadata": {},
     "output_type": "execute_result"
    }
   ],
   "source": [
    "np.array(result)*3"
   ]
  },
  {
   "cell_type": "code",
   "execution_count": 56,
   "id": "9a50e682-a746-4b00-9b21-54d3d2b23328",
   "metadata": {},
   "outputs": [
    {
     "data": {
      "text/plain": [
       "-0.09366228934616819"
      ]
     },
     "execution_count": 56,
     "metadata": {},
     "output_type": "execute_result"
    }
   ],
   "source": [
    "(horizontal_velocity).mean()"
   ]
  },
  {
   "cell_type": "code",
   "execution_count": 57,
   "id": "2ab1e874-ee77-46d2-93a2-55b69e33c8a4",
   "metadata": {},
   "outputs": [
    {
     "data": {
      "text/plain": [
       "-0.03548388738810682"
      ]
     },
     "execution_count": 57,
     "metadata": {},
     "output_type": "execute_result"
    }
   ],
   "source": [
    "vertical_velocity.mean()"
   ]
  },
  {
   "cell_type": "code",
   "execution_count": null,
   "id": "2728980f-7f5d-40b5-8b65-722947218f73",
   "metadata": {},
   "outputs": [],
   "source": []
  }
 ],
 "metadata": {
  "kernelspec": {
   "display_name": "Python 3 (ipykernel)",
   "language": "python",
   "name": "python3"
  },
  "language_info": {
   "codemirror_mode": {
    "name": "ipython",
    "version": 3
   },
   "file_extension": ".py",
   "mimetype": "text/x-python",
   "name": "python",
   "nbconvert_exporter": "python",
   "pygments_lexer": "ipython3",
   "version": "3.9.12"
  }
 },
 "nbformat": 4,
 "nbformat_minor": 5
}
